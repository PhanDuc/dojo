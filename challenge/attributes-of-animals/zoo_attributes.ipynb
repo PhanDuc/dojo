{
 "cells": [
  {
   "cell_type": "code",
   "execution_count": 443,
   "metadata": {},
   "outputs": [],
   "source": [
    "import numpy as np\n",
    "import tensorflow as tf\n",
    "import pandas as pd\n",
    "import glob\n",
    "import random\n",
    "\n",
    "from sklearn import model_selection\n",
    "from keras.models import Sequential\n",
    "from keras.layers.core import Dense, Dropout, Activation\n",
    "from keras.optimizers import Adam\n",
    "from matplotlib import pyplot as plt\n",
    "%matplotlib inline"
   ]
  },
  {
   "cell_type": "code",
   "execution_count": 52,
   "metadata": {},
   "outputs": [],
   "source": [
    "def features_from_bottles(bottles):\n",
    "    X = []\n",
    "    y = []\n",
    "    for bottle in bottles:\n",
    "        label = bottle.split(\"/\")[-1].replace(\"_inception_v3.txt\", \"\")\n",
    "        line = open(bottle).readlines()\n",
    "        X.append( np.loadtxt(line[0].split(','), dtype=np.float32) )\n",
    "        y.append(label)\n",
    "        \n",
    "    X = np.array(X)\n",
    "    return (X, y)\n",
    "        "
   ]
  },
  {
   "cell_type": "code",
   "execution_count": 57,
   "metadata": {},
   "outputs": [],
   "source": [
    "bottles = glob.glob('./features/train_img_vectors/*.txt')\n",
    "X, y = features_from_bottles(bottles)"
   ]
  },
  {
   "cell_type": "code",
   "execution_count": 58,
   "metadata": {},
   "outputs": [],
   "source": [
    "X_train, X_test, y_train, y_test = model_selection.train_test_split(X, y, test_size=0.4)"
   ]
  },
  {
   "cell_type": "code",
   "execution_count": 87,
   "metadata": {},
   "outputs": [],
   "source": [
    "train_labels = pd.read_csv('./DL3 Dataset/meta-data/train.csv')\n",
    "test_labels = pd.read_csv('./DL3 Dataset/meta-data/test.csv')\n",
    "train_labels = train_labels.set_index('Image_name');"
   ]
  },
  {
   "cell_type": "code",
   "execution_count": 88,
   "metadata": {},
   "outputs": [
    {
     "data": {
      "text/html": [
       "<div>\n",
       "<style scoped>\n",
       "    .dataframe tbody tr th:only-of-type {\n",
       "        vertical-align: middle;\n",
       "    }\n",
       "\n",
       "    .dataframe tbody tr th {\n",
       "        vertical-align: top;\n",
       "    }\n",
       "\n",
       "    .dataframe thead th {\n",
       "        text-align: right;\n",
       "    }\n",
       "</style>\n",
       "<table border=\"1\" class=\"dataframe\">\n",
       "  <thead>\n",
       "    <tr style=\"text-align: right;\">\n",
       "      <th></th>\n",
       "      <th>attrib_01</th>\n",
       "      <th>attrib_02</th>\n",
       "      <th>attrib_03</th>\n",
       "      <th>attrib_04</th>\n",
       "      <th>attrib_05</th>\n",
       "      <th>attrib_06</th>\n",
       "      <th>attrib_07</th>\n",
       "      <th>attrib_08</th>\n",
       "      <th>attrib_09</th>\n",
       "      <th>attrib_10</th>\n",
       "      <th>...</th>\n",
       "      <th>attrib_76</th>\n",
       "      <th>attrib_77</th>\n",
       "      <th>attrib_78</th>\n",
       "      <th>attrib_79</th>\n",
       "      <th>attrib_80</th>\n",
       "      <th>attrib_81</th>\n",
       "      <th>attrib_82</th>\n",
       "      <th>attrib_83</th>\n",
       "      <th>attrib_84</th>\n",
       "      <th>attrib_85</th>\n",
       "    </tr>\n",
       "    <tr>\n",
       "      <th>Image_name</th>\n",
       "      <th></th>\n",
       "      <th></th>\n",
       "      <th></th>\n",
       "      <th></th>\n",
       "      <th></th>\n",
       "      <th></th>\n",
       "      <th></th>\n",
       "      <th></th>\n",
       "      <th></th>\n",
       "      <th></th>\n",
       "      <th></th>\n",
       "      <th></th>\n",
       "      <th></th>\n",
       "      <th></th>\n",
       "      <th></th>\n",
       "      <th></th>\n",
       "      <th></th>\n",
       "      <th></th>\n",
       "      <th></th>\n",
       "      <th></th>\n",
       "      <th></th>\n",
       "    </tr>\n",
       "  </thead>\n",
       "  <tbody>\n",
       "    <tr>\n",
       "      <th>Image-1.jpg</th>\n",
       "      <td>0</td>\n",
       "      <td>0</td>\n",
       "      <td>0</td>\n",
       "      <td>0</td>\n",
       "      <td>0</td>\n",
       "      <td>1</td>\n",
       "      <td>1</td>\n",
       "      <td>0</td>\n",
       "      <td>0</td>\n",
       "      <td>0</td>\n",
       "      <td>...</td>\n",
       "      <td>1</td>\n",
       "      <td>0</td>\n",
       "      <td>0</td>\n",
       "      <td>0</td>\n",
       "      <td>0</td>\n",
       "      <td>0</td>\n",
       "      <td>0</td>\n",
       "      <td>0</td>\n",
       "      <td>0</td>\n",
       "      <td>1</td>\n",
       "    </tr>\n",
       "    <tr>\n",
       "      <th>Image-2.jpg</th>\n",
       "      <td>1</td>\n",
       "      <td>0</td>\n",
       "      <td>0</td>\n",
       "      <td>1</td>\n",
       "      <td>0</td>\n",
       "      <td>0</td>\n",
       "      <td>1</td>\n",
       "      <td>1</td>\n",
       "      <td>0</td>\n",
       "      <td>0</td>\n",
       "      <td>...</td>\n",
       "      <td>1</td>\n",
       "      <td>1</td>\n",
       "      <td>1</td>\n",
       "      <td>1</td>\n",
       "      <td>0</td>\n",
       "      <td>0</td>\n",
       "      <td>0</td>\n",
       "      <td>1</td>\n",
       "      <td>0</td>\n",
       "      <td>1</td>\n",
       "    </tr>\n",
       "    <tr>\n",
       "      <th>Image-3.jpg</th>\n",
       "      <td>1</td>\n",
       "      <td>0</td>\n",
       "      <td>0</td>\n",
       "      <td>1</td>\n",
       "      <td>0</td>\n",
       "      <td>0</td>\n",
       "      <td>0</td>\n",
       "      <td>1</td>\n",
       "      <td>1</td>\n",
       "      <td>0</td>\n",
       "      <td>...</td>\n",
       "      <td>1</td>\n",
       "      <td>0</td>\n",
       "      <td>0</td>\n",
       "      <td>1</td>\n",
       "      <td>0</td>\n",
       "      <td>1</td>\n",
       "      <td>0</td>\n",
       "      <td>1</td>\n",
       "      <td>0</td>\n",
       "      <td>1</td>\n",
       "    </tr>\n",
       "  </tbody>\n",
       "</table>\n",
       "<p>3 rows × 85 columns</p>\n",
       "</div>"
      ],
      "text/plain": [
       "             attrib_01  attrib_02  attrib_03  attrib_04  attrib_05  attrib_06  \\\n",
       "Image_name                                                                      \n",
       "Image-1.jpg          0          0          0          0          0          1   \n",
       "Image-2.jpg          1          0          0          1          0          0   \n",
       "Image-3.jpg          1          0          0          1          0          0   \n",
       "\n",
       "             attrib_07  attrib_08  attrib_09  attrib_10    ...      attrib_76  \\\n",
       "Image_name                                                 ...                  \n",
       "Image-1.jpg          1          0          0          0    ...              1   \n",
       "Image-2.jpg          1          1          0          0    ...              1   \n",
       "Image-3.jpg          0          1          1          0    ...              1   \n",
       "\n",
       "             attrib_77  attrib_78  attrib_79  attrib_80  attrib_81  attrib_82  \\\n",
       "Image_name                                                                      \n",
       "Image-1.jpg          0          0          0          0          0          0   \n",
       "Image-2.jpg          1          1          1          0          0          0   \n",
       "Image-3.jpg          0          0          1          0          1          0   \n",
       "\n",
       "             attrib_83  attrib_84  attrib_85  \n",
       "Image_name                                    \n",
       "Image-1.jpg          0          0          1  \n",
       "Image-2.jpg          1          0          1  \n",
       "Image-3.jpg          1          0          1  \n",
       "\n",
       "[3 rows x 85 columns]"
      ]
     },
     "execution_count": 88,
     "metadata": {},
     "output_type": "execute_result"
    }
   ],
   "source": [
    "train_labels.head(3)"
   ]
  },
  {
   "cell_type": "code",
   "execution_count": 94,
   "metadata": {},
   "outputs": [
    {
     "data": {
      "text/plain": [
       "85"
      ]
     },
     "execution_count": 94,
     "metadata": {},
     "output_type": "execute_result"
    }
   ],
   "source": [
    "len(train_labels.loc['Image-22.jpg'].tolist())"
   ]
  },
  {
   "cell_type": "code",
   "execution_count": 101,
   "metadata": {},
   "outputs": [],
   "source": [
    "y_train_ = np.array([train_labels.loc[label] for label in y_train])\n",
    "y_test_ = np.array([train_labels.loc[label] for label in y_test])"
   ]
  },
  {
   "cell_type": "code",
   "execution_count": 124,
   "metadata": {},
   "outputs": [
    {
     "name": "stdout",
     "output_type": "stream",
     "text": [
      "Epoch 1/15\n",
      "7560/7560 [==============================] - 3s 447us/step - loss: 0.6221\n",
      "Epoch 2/15\n",
      "7560/7560 [==============================] - 3s 380us/step - loss: 0.4611\n",
      "Epoch 3/15\n",
      "7560/7560 [==============================] - 3s 382us/step - loss: 0.3340\n",
      "Epoch 4/15\n",
      "7560/7560 [==============================] - 3s 408us/step - loss: 0.2594\n",
      "Epoch 5/15\n",
      "7560/7560 [==============================] - 3s 407us/step - loss: 0.2170\n",
      "Epoch 6/15\n",
      "7560/7560 [==============================] - 3s 397us/step - loss: 0.1877\n",
      "Epoch 7/15\n",
      "7560/7560 [==============================] - 3s 399us/step - loss: 0.1646\n",
      "Epoch 8/15\n",
      "7560/7560 [==============================] - 3s 402us/step - loss: 0.1466\n",
      "Epoch 9/15\n",
      "7560/7560 [==============================] - 3s 399us/step - loss: 0.1333\n",
      "Epoch 10/15\n",
      "7560/7560 [==============================] - 3s 407us/step - loss: 0.1215\n",
      "Epoch 11/15\n",
      "7560/7560 [==============================] - 3s 423us/step - loss: 0.1127\n",
      "Epoch 12/15\n",
      "7560/7560 [==============================] - 3s 407us/step - loss: 0.1049\n",
      "Epoch 13/15\n",
      "7560/7560 [==============================] - 3s 399us/step - loss: 0.0986\n",
      "Epoch 14/15\n",
      "7560/7560 [==============================] - 3s 406us/step - loss: 0.0935\n",
      "Epoch 15/15\n",
      "7560/7560 [==============================] - 3s 406us/step - loss: 0.0875\n"
     ]
    },
    {
     "data": {
      "text/plain": [
       "<keras.callbacks.History at 0x133ee9278>"
      ]
     },
     "execution_count": 124,
     "metadata": {},
     "output_type": "execute_result"
    }
   ],
   "source": [
    "model = Sequential()\n",
    "model.add(Dense(2048, activation='tanh', input_dim=X_train.shape[1]))\n",
    "model.add(Dropout(0.5))\n",
    "model.add(Dense(1024, activation='tanh'))\n",
    "model.add(Dropout(0.5))\n",
    "model.add(Dense(y_train_.shape[1], activation='sigmoid'))\n",
    "model.compile(loss='binary_crossentropy',\n",
    "              optimizer='adam')\n",
    "\n",
    "model.fit(X_train, y_train_, epochs=15, batch_size=2000)"
   ]
  },
  {
   "cell_type": "code",
   "execution_count": 125,
   "metadata": {},
   "outputs": [
    {
     "name": "stdout",
     "output_type": "stream",
     "text": [
      "Accuracy 0.976360877684407\n"
     ]
    }
   ],
   "source": [
    "preds = model.predict(X_test)\n",
    "preds[preds>=0.5] = 1\n",
    "preds[preds<0.5] = 0\n",
    "\n",
    "result = preds.reshape(-1) == y_test_.reshape(-1)\n",
    "acc_on_test = sum(result)/len(result)\n",
    "print(\"Accuracy\", acc_on_test)"
   ]
  },
  {
   "cell_type": "code",
   "execution_count": 122,
   "metadata": {},
   "outputs": [
    {
     "data": {
      "text/plain": [
       "0.9712581699346405"
      ]
     },
     "execution_count": 122,
     "metadata": {},
     "output_type": "execute_result"
    }
   ],
   "source": []
  },
  {
   "cell_type": "code",
   "execution_count": 126,
   "metadata": {},
   "outputs": [
    {
     "data": {
      "text/plain": [
       "0.976"
      ]
     },
     "execution_count": 126,
     "metadata": {},
     "output_type": "execute_result"
    }
   ],
   "source": [
    "round(0.976360877684407, 3)"
   ]
  },
  {
   "cell_type": "markdown",
   "metadata": {},
   "source": [
    "### Test images from Hacker Earth"
   ]
  },
  {
   "cell_type": "code",
   "execution_count": 127,
   "metadata": {},
   "outputs": [],
   "source": [
    "bottles = glob.glob('./features/test_img_vectors/*.txt')\n",
    "X, y = features_from_bottles(bottles)"
   ]
  },
  {
   "cell_type": "code",
   "execution_count": 129,
   "metadata": {},
   "outputs": [],
   "source": [
    "preds = model.predict(X)\n",
    "preds[preds>=0.5] = 1\n",
    "preds[preds<0.5] = 0"
   ]
  },
  {
   "cell_type": "code",
   "execution_count": 133,
   "metadata": {},
   "outputs": [
    {
     "data": {
      "text/plain": [
       "(5400, 85)"
      ]
     },
     "execution_count": 133,
     "metadata": {},
     "output_type": "execute_result"
    }
   ],
   "source": [
    "preds.shape"
   ]
  },
  {
   "cell_type": "code",
   "execution_count": 147,
   "metadata": {},
   "outputs": [],
   "source": [
    "attribs = ['attrib_'+\"{:02}\".format(i) for i in range(1, 86)]"
   ]
  },
  {
   "cell_type": "code",
   "execution_count": 176,
   "metadata": {},
   "outputs": [],
   "source": [
    "data = {}\n",
    "for i in range(len(preds)):\n",
    "    row = {a: int(b)  for (a,b) in zip(attribs, preds[i])}\n",
    "    data[y[i]] = row"
   ]
  },
  {
   "cell_type": "code",
   "execution_count": 178,
   "metadata": {},
   "outputs": [],
   "source": [
    "result = []\n",
    "for val in test_labels['Image_name'].tolist():\n",
    "    point_ = data[val]\n",
    "    point_['Image_name'] = val\n",
    "    result.append(point_)\n",
    "    "
   ]
  },
  {
   "cell_type": "code",
   "execution_count": 181,
   "metadata": {},
   "outputs": [],
   "source": [
    "df_preds = pd.DataFrame(result)\n",
    "df_preds = df_preds.set_index('Image_name')"
   ]
  },
  {
   "cell_type": "code",
   "execution_count": 182,
   "metadata": {},
   "outputs": [
    {
     "data": {
      "text/html": [
       "<div>\n",
       "<style scoped>\n",
       "    .dataframe tbody tr th:only-of-type {\n",
       "        vertical-align: middle;\n",
       "    }\n",
       "\n",
       "    .dataframe tbody tr th {\n",
       "        vertical-align: top;\n",
       "    }\n",
       "\n",
       "    .dataframe thead th {\n",
       "        text-align: right;\n",
       "    }\n",
       "</style>\n",
       "<table border=\"1\" class=\"dataframe\">\n",
       "  <thead>\n",
       "    <tr style=\"text-align: right;\">\n",
       "      <th></th>\n",
       "      <th>attrib_01</th>\n",
       "      <th>attrib_02</th>\n",
       "      <th>attrib_03</th>\n",
       "      <th>attrib_04</th>\n",
       "      <th>attrib_05</th>\n",
       "      <th>attrib_06</th>\n",
       "      <th>attrib_07</th>\n",
       "      <th>attrib_08</th>\n",
       "      <th>attrib_09</th>\n",
       "      <th>attrib_10</th>\n",
       "      <th>...</th>\n",
       "      <th>attrib_76</th>\n",
       "      <th>attrib_77</th>\n",
       "      <th>attrib_78</th>\n",
       "      <th>attrib_79</th>\n",
       "      <th>attrib_80</th>\n",
       "      <th>attrib_81</th>\n",
       "      <th>attrib_82</th>\n",
       "      <th>attrib_83</th>\n",
       "      <th>attrib_84</th>\n",
       "      <th>attrib_85</th>\n",
       "    </tr>\n",
       "    <tr>\n",
       "      <th>Image_name</th>\n",
       "      <th></th>\n",
       "      <th></th>\n",
       "      <th></th>\n",
       "      <th></th>\n",
       "      <th></th>\n",
       "      <th></th>\n",
       "      <th></th>\n",
       "      <th></th>\n",
       "      <th></th>\n",
       "      <th></th>\n",
       "      <th></th>\n",
       "      <th></th>\n",
       "      <th></th>\n",
       "      <th></th>\n",
       "      <th></th>\n",
       "      <th></th>\n",
       "      <th></th>\n",
       "      <th></th>\n",
       "      <th></th>\n",
       "      <th></th>\n",
       "      <th></th>\n",
       "    </tr>\n",
       "  </thead>\n",
       "  <tbody>\n",
       "    <tr>\n",
       "      <th>Image-1.jpg</th>\n",
       "      <td>0</td>\n",
       "      <td>0</td>\n",
       "      <td>0</td>\n",
       "      <td>0</td>\n",
       "      <td>0</td>\n",
       "      <td>1</td>\n",
       "      <td>0</td>\n",
       "      <td>0</td>\n",
       "      <td>1</td>\n",
       "      <td>1</td>\n",
       "      <td>...</td>\n",
       "      <td>0</td>\n",
       "      <td>0</td>\n",
       "      <td>0</td>\n",
       "      <td>1</td>\n",
       "      <td>1</td>\n",
       "      <td>0</td>\n",
       "      <td>0</td>\n",
       "      <td>1</td>\n",
       "      <td>0</td>\n",
       "      <td>1</td>\n",
       "    </tr>\n",
       "    <tr>\n",
       "      <th>Image-2.jpg</th>\n",
       "      <td>0</td>\n",
       "      <td>1</td>\n",
       "      <td>0</td>\n",
       "      <td>1</td>\n",
       "      <td>0</td>\n",
       "      <td>1</td>\n",
       "      <td>1</td>\n",
       "      <td>0</td>\n",
       "      <td>0</td>\n",
       "      <td>0</td>\n",
       "      <td>...</td>\n",
       "      <td>0</td>\n",
       "      <td>1</td>\n",
       "      <td>0</td>\n",
       "      <td>1</td>\n",
       "      <td>0</td>\n",
       "      <td>0</td>\n",
       "      <td>0</td>\n",
       "      <td>0</td>\n",
       "      <td>1</td>\n",
       "      <td>1</td>\n",
       "    </tr>\n",
       "    <tr>\n",
       "      <th>Image-3.jpg</th>\n",
       "      <td>0</td>\n",
       "      <td>0</td>\n",
       "      <td>0</td>\n",
       "      <td>1</td>\n",
       "      <td>0</td>\n",
       "      <td>0</td>\n",
       "      <td>1</td>\n",
       "      <td>0</td>\n",
       "      <td>0</td>\n",
       "      <td>0</td>\n",
       "      <td>...</td>\n",
       "      <td>1</td>\n",
       "      <td>0</td>\n",
       "      <td>0</td>\n",
       "      <td>1</td>\n",
       "      <td>0</td>\n",
       "      <td>0</td>\n",
       "      <td>0</td>\n",
       "      <td>1</td>\n",
       "      <td>0</td>\n",
       "      <td>1</td>\n",
       "    </tr>\n",
       "    <tr>\n",
       "      <th>Image-4.jpg</th>\n",
       "      <td>1</td>\n",
       "      <td>0</td>\n",
       "      <td>0</td>\n",
       "      <td>0</td>\n",
       "      <td>1</td>\n",
       "      <td>1</td>\n",
       "      <td>1</td>\n",
       "      <td>0</td>\n",
       "      <td>0</td>\n",
       "      <td>1</td>\n",
       "      <td>...</td>\n",
       "      <td>0</td>\n",
       "      <td>1</td>\n",
       "      <td>1</td>\n",
       "      <td>1</td>\n",
       "      <td>0</td>\n",
       "      <td>0</td>\n",
       "      <td>0</td>\n",
       "      <td>0</td>\n",
       "      <td>0</td>\n",
       "      <td>0</td>\n",
       "    </tr>\n",
       "    <tr>\n",
       "      <th>Image-5.jpg</th>\n",
       "      <td>0</td>\n",
       "      <td>0</td>\n",
       "      <td>0</td>\n",
       "      <td>1</td>\n",
       "      <td>0</td>\n",
       "      <td>1</td>\n",
       "      <td>0</td>\n",
       "      <td>0</td>\n",
       "      <td>0</td>\n",
       "      <td>1</td>\n",
       "      <td>...</td>\n",
       "      <td>0</td>\n",
       "      <td>0</td>\n",
       "      <td>0</td>\n",
       "      <td>1</td>\n",
       "      <td>1</td>\n",
       "      <td>0</td>\n",
       "      <td>0</td>\n",
       "      <td>1</td>\n",
       "      <td>0</td>\n",
       "      <td>0</td>\n",
       "    </tr>\n",
       "  </tbody>\n",
       "</table>\n",
       "<p>5 rows × 85 columns</p>\n",
       "</div>"
      ],
      "text/plain": [
       "             attrib_01  attrib_02  attrib_03  attrib_04  attrib_05  attrib_06  \\\n",
       "Image_name                                                                      \n",
       "Image-1.jpg          0          0          0          0          0          1   \n",
       "Image-2.jpg          0          1          0          1          0          1   \n",
       "Image-3.jpg          0          0          0          1          0          0   \n",
       "Image-4.jpg          1          0          0          0          1          1   \n",
       "Image-5.jpg          0          0          0          1          0          1   \n",
       "\n",
       "             attrib_07  attrib_08  attrib_09  attrib_10    ...      attrib_76  \\\n",
       "Image_name                                                 ...                  \n",
       "Image-1.jpg          0          0          1          1    ...              0   \n",
       "Image-2.jpg          1          0          0          0    ...              0   \n",
       "Image-3.jpg          1          0          0          0    ...              1   \n",
       "Image-4.jpg          1          0          0          1    ...              0   \n",
       "Image-5.jpg          0          0          0          1    ...              0   \n",
       "\n",
       "             attrib_77  attrib_78  attrib_79  attrib_80  attrib_81  attrib_82  \\\n",
       "Image_name                                                                      \n",
       "Image-1.jpg          0          0          1          1          0          0   \n",
       "Image-2.jpg          1          0          1          0          0          0   \n",
       "Image-3.jpg          0          0          1          0          0          0   \n",
       "Image-4.jpg          1          1          1          0          0          0   \n",
       "Image-5.jpg          0          0          1          1          0          0   \n",
       "\n",
       "             attrib_83  attrib_84  attrib_85  \n",
       "Image_name                                    \n",
       "Image-1.jpg          1          0          1  \n",
       "Image-2.jpg          0          1          1  \n",
       "Image-3.jpg          1          0          1  \n",
       "Image-4.jpg          0          0          0  \n",
       "Image-5.jpg          1          0          0  \n",
       "\n",
       "[5 rows x 85 columns]"
      ]
     },
     "execution_count": 182,
     "metadata": {},
     "output_type": "execute_result"
    }
   ],
   "source": [
    "df_preds.head()"
   ]
  },
  {
   "cell_type": "code",
   "execution_count": 183,
   "metadata": {},
   "outputs": [],
   "source": [
    "df_preds.to_csv('result.csv')"
   ]
  },
  {
   "cell_type": "markdown",
   "metadata": {},
   "source": [
    "### Parameter tuning\n",
    "Search set of parameters to try on training and find out the optimal best performer"
   ]
  },
  {
   "cell_type": "markdown",
   "metadata": {},
   "source": [
    "#### Alphas"
   ]
  },
  {
   "cell_type": "code",
   "execution_count": 213,
   "metadata": {},
   "outputs": [
    {
     "name": "stdout",
     "output_type": "stream",
     "text": [
      "ranges:  [(-4, 0.0001), (-3, 0.001), (-2, 0.01), (-1, 0.1), (0, 1)]\n",
      "r: -3.030722570009128\n",
      "a: -4.0\n"
     ]
    }
   ],
   "source": [
    "r = -4 * np.random.rand() # r belogns to [-4, 0]\n",
    "a = np.log10(0.0001)\n",
    "r_range = [(i, 10**i) for i in range(-4, 1)]\n",
    "print(\"ranges: \", r_range)\n",
    "print(\"r:\", r)\n",
    "print(\"a:\", a)"
   ]
  },
  {
   "cell_type": "code",
   "execution_count": 347,
   "metadata": {},
   "outputs": [],
   "source": [
    "def random_from_a_b(a, b, size):\n",
    "    nums = []\n",
    "    for i in range(size):\n",
    "        c = a + (b - a) * np.random.rand()\n",
    "        nums.append(c)\n",
    "    return nums"
   ]
  },
  {
   "cell_type": "code",
   "execution_count": 462,
   "metadata": {},
   "outputs": [],
   "source": [
    "alpha_ranges = [(-4, -3), (-3, -2), (-2, -1), (-1, 0)]\n",
    "alphas = [0.001, 0.0001, 0.01, 0.1, 0.0007, 0.007]\n",
    "# for (a, b) in alpha_ranges:\n",
    "#     rs = random_from_a_b(a, b, 10)\n",
    "#     alphas += [10**i for i in rs]"
   ]
  },
  {
   "cell_type": "code",
   "execution_count": 463,
   "metadata": {},
   "outputs": [
    {
     "data": {
      "text/plain": [
       "<matplotlib.legend.Legend at 0x1db5abba8>"
      ]
     },
     "execution_count": 463,
     "metadata": {},
     "output_type": "execute_result"
    },
    {
     "data": {
      "image/png": "[encoded data removed]",
      "text/plain": [
       "<matplotlib.figure.Figure at 0x1db5ab6d8>"
      ]
     },
     "metadata": {},
     "output_type": "display_data"
    }
   ],
   "source": [
    "plt.figure(figsize=(10, 5))\n",
    "plt.plot(range(len(alphas)), alphas, label='Alphas')\n",
    "plt.legend()"
   ]
  },
  {
   "cell_type": "markdown",
   "metadata": {},
   "source": [
    "#### Layers and Neurons"
   ]
  },
  {
   "cell_type": "code",
   "execution_count": 464,
   "metadata": {},
   "outputs": [],
   "source": [
    "#alphas\n",
    "layers = list(range(1, 11))\n",
    "neurons_set = [ [np.random.randint(64, 8192, i) for i in layers] for x in range(10) ]\n",
    "activations = ['elu', 'relu', 'selu', 'tanh', 'linear']\n"
   ]
  },
  {
   "cell_type": "code",
   "execution_count": 465,
   "metadata": {},
   "outputs": [],
   "source": [
    "import itertools\n",
    "layer_comb = list(itertools.product(*[layers, activations, alphas, list(range(10))]))"
   ]
  },
  {
   "cell_type": "code",
   "execution_count": null,
   "metadata": {},
   "outputs": [],
   "source": []
  },
  {
   "cell_type": "code",
   "execution_count": 466,
   "metadata": {},
   "outputs": [
    {
     "data": {
      "text/plain": [
       "3000"
      ]
     },
     "execution_count": 466,
     "metadata": {},
     "output_type": "execute_result"
    }
   ],
   "source": [
    "len(layer_comb)"
   ]
  },
  {
   "cell_type": "markdown",
   "metadata": {},
   "source": [
    "### Improvements base on first model\n",
    "\n",
    "First model above has 0.976 accuracy in dev set and 0.96 in Lead Board Test"
   ]
  },
  {
   "cell_type": "code",
   "execution_count": 467,
   "metadata": {},
   "outputs": [
    {
     "data": {
      "text/plain": [
       "[(4, 'linear', 0.007, 6),\n",
       " (3, 'selu', 0.01, 3),\n",
       " (3, 'tanh', 0.0001, 9),\n",
       " (8, 'relu', 0.0001, 1),\n",
       " (2, 'linear', 0.001, 9),\n",
       " (2, 'selu', 0.0007, 5),\n",
       " (9, 'tanh', 0.0007, 6),\n",
       " (2, 'tanh', 0.0001, 4),\n",
       " (8, 'linear', 0.0001, 5),\n",
       " (5, 'linear', 0.01, 2)]"
      ]
     },
     "execution_count": 467,
     "metadata": {},
     "output_type": "execute_result"
    }
   ],
   "source": [
    "_layer_comb = layer_comb[:]\n",
    "random.shuffle(_layer_comb)\n",
    "_layer_comb[:10]"
   ]
  },
  {
   "cell_type": "code",
   "execution_count": 468,
   "metadata": {},
   "outputs": [
    {
     "name": "stdout",
     "output_type": "stream",
     "text": [
      "Layers: 4 Activation linear Accuracy: 0.7448972922502334 Test loss: 4.0976821127392\n",
      "Layers: 3 Activation selu Accuracy: 0.7448692810457517 Test loss: 4.093996698894198\n",
      "Layers: 3 Activation tanh Accuracy: 0.9742133520074696 Test loss: 0.07179442030333337\n",
      "Layers: 8 Activation relu Accuracy: 0.7802450980392157 Test loss: 0.47916274789779906\n",
      "Layers: 2 Activation linear Accuracy: 0.9725186741363212 Test loss: 0.07662172673477066\n",
      "Layers: 2 Activation selu Accuracy: 0.9749696545284781 Test loss: 0.07030150859601914\n",
      "Layers: 9 Activation tanh Accuracy: 0.7487768440709617 Test loss: 0.5112257179759797\n",
      "Layers: 2 Activation tanh Accuracy: 0.9722455648926237 Test loss: 0.08000467133427423\n",
      "Layers: 8 Activation linear Accuracy: 0.9437675070028011 Test loss: 0.1470096079603074\n",
      "Layers: 5 Activation linear Accuracy: 0.5191269841269841 Test loss: 7.699259932079013\n",
      "Layers: 6 Activation relu Accuracy: 0.7486647992530345 Test loss: 4.037288060263982\n",
      "Layers: 2 Activation selu Accuracy: 0.25147525676937443 Test loss: 11.968079012916201\n",
      "Layers: 5 Activation selu Accuracy: 0.7450980392156863 Test loss: 4.091363336169531\n",
      "Layers: 2 Activation linear Accuracy: 0.7486134453781512 Test loss: 4.036044118517921\n",
      "Layers: 1 Activation linear Accuracy: 0.9620214752567694 Test loss: 0.12973015757780226\n",
      "Layers: 4 Activation tanh Accuracy: 0.9398295985060691 Test loss: 0.16948447946518186\n",
      "Layers: 3 Activation linear Accuracy: 0.7411531279178338 Test loss: 4.157701913137284\n",
      "Layers: 8 Activation relu Accuracy: 0.759670868347339 Test loss: 0.4941935364216093\n",
      "Layers: 6 Activation relu Accuracy: 0.7478758169934641 Test loss: 4.049935669369168\n",
      "Layers: 6 Activation tanh Accuracy: 0.7377591036414566 Test loss: 1.4048708139903963\n",
      "Layers: 1 Activation linear Accuracy: 0.7892203548085901 Test loss: 3.2922637424771746\n",
      "Layers: 7 Activation selu Accuracy: 0.7453828197945845 Test loss: 4.088865378546337\n",
      "Layers: 2 Activation relu Accuracy: 0.7470728291316526 Test loss: 4.059706943754166\n",
      "Layers: 4 Activation linear Accuracy: 0.2619934640522876 Test loss: 11.803604089646113\n",
      "Layers: 2 Activation tanh Accuracy: 0.971015406162465 Test loss: 0.08078585782694438\n",
      "Layers: 1 Activation tanh Accuracy: 0.9606605975723623 Test loss: 0.13720001724977343\n",
      "Layers: 3 Activation elu Accuracy: 0.7477170868347339 Test loss: 4.051446580886841\n"
     ]
    },
    {
     "ename": "IndexError",
     "evalue": "list index out of range",
     "output_type": "error",
     "traceback": [
      "\u001b[0;31m---------------------------------------------------------------------------\u001b[0m",
      "\u001b[0;31mIndexError\u001b[0m                                Traceback (most recent call last)",
      "\u001b[0;32m<ipython-input-468-3520373ac1c0>\u001b[0m in \u001b[0;36m<module>\u001b[0;34m()\u001b[0m\n\u001b[1;32m      3\u001b[0m     \u001b[0mmodel\u001b[0m \u001b[0;34m=\u001b[0m \u001b[0mSequential\u001b[0m\u001b[0;34m(\u001b[0m\u001b[0;34m)\u001b[0m\u001b[0;34m\u001b[0m\u001b[0m\n\u001b[1;32m      4\u001b[0m     \u001b[0;32mfor\u001b[0m \u001b[0mi_layer\u001b[0m \u001b[0;32min\u001b[0m \u001b[0mrange\u001b[0m\u001b[0;34m(\u001b[0m\u001b[0mnum_layers\u001b[0m\u001b[0;34m)\u001b[0m\u001b[0;34m:\u001b[0m\u001b[0;34m\u001b[0m\u001b[0m\n\u001b[0;32m----> 5\u001b[0;31m         \u001b[0mnum_neurons\u001b[0m \u001b[0;34m=\u001b[0m \u001b[0mneurons_set\u001b[0m\u001b[0;34m[\u001b[0m\u001b[0mnum_neuron_set\u001b[0m\u001b[0;34m]\u001b[0m\u001b[0;34m[\u001b[0m\u001b[0mnum_layers\u001b[0m\u001b[0;34m]\u001b[0m\u001b[0;34m[\u001b[0m\u001b[0mi_layer\u001b[0m\u001b[0;34m]\u001b[0m\u001b[0;34m\u001b[0m\u001b[0m\n\u001b[0m\u001b[1;32m      6\u001b[0m         \u001b[0;32mif\u001b[0m \u001b[0mi_layer\u001b[0m \u001b[0;34m==\u001b[0m \u001b[0;36m0\u001b[0m\u001b[0;34m:\u001b[0m\u001b[0;34m\u001b[0m\u001b[0m\n\u001b[1;32m      7\u001b[0m             \u001b[0mmodel\u001b[0m\u001b[0;34m.\u001b[0m\u001b[0madd\u001b[0m\u001b[0;34m(\u001b[0m\u001b[0mDense\u001b[0m\u001b[0;34m(\u001b[0m\u001b[0mnum_neurons\u001b[0m\u001b[0;34m,\u001b[0m \u001b[0mactivation\u001b[0m\u001b[0;34m=\u001b[0m\u001b[0mactivation\u001b[0m\u001b[0;34m,\u001b[0m \u001b[0minput_dim\u001b[0m\u001b[0;34m=\u001b[0m\u001b[0mX_train\u001b[0m\u001b[0;34m.\u001b[0m\u001b[0mshape\u001b[0m\u001b[0;34m[\u001b[0m\u001b[0;36m1\u001b[0m\u001b[0;34m]\u001b[0m\u001b[0;34m)\u001b[0m\u001b[0;34m)\u001b[0m\u001b[0;34m\u001b[0m\u001b[0m\n",
      "\u001b[0;31mIndexError\u001b[0m: list index out of range"
     ]
    }
   ],
   "source": [
    "trains = []\n",
    "for (num_layers, activation, lr, num_neuron_set) in _layer_comb:\n",
    "    model = Sequential()\n",
    "    for i_layer in range(num_layers):\n",
    "        num_neurons = neurons_set[num_neuron_set][num_layers][i_layer]\n",
    "        if i_layer == 0:\n",
    "            model.add(Dense(num_neurons, activation=activation, input_dim=X_train.shape[1]))\n",
    "        else:\n",
    "            model.add(Dense(num_neurons, activation=activation))\n",
    "        model.add(Dropout(0.5))\n",
    "    # Last Layer\n",
    "    model.add(Dense(y_train_.shape[1], activation='sigmoid'))\n",
    "    # Optimization\n",
    "    opt = Adam(lr=lr)\n",
    "    model.compile(loss='binary_crossentropy', optimizer=opt)\n",
    "    model.fit(X_train, y_train_, epochs=15, batch_size=2000, verbose=0)\n",
    "    # Prediction\n",
    "    preds = model.predict(X_test)\n",
    "    preds[preds>=0.5] = 1\n",
    "    preds[preds<0.5] = 0\n",
    "    result = preds.reshape(-1) == y_test_.reshape(-1)\n",
    "    acc_on_test = sum(result)/len(result)\n",
    "    # Losses\n",
    "    test_loss = model.evaluate(X_test, y_test_, verbose=0)\n",
    "    train_loss = model.evaluate(X_train, y_train_, verbose=0)\n",
    "\n",
    "    point_model = {\n",
    "        'num_layers':num_layers, 'activation':activation,\n",
    "        'lr':lr, 'test_loss':test_loss, 'test_acc':acc_on_test,\n",
    "        'train_loss':train_loss,\n",
    "        'neurons': ','.join([str(s) for s in neurons_set[num_neuron_set][num_layers] ] )\n",
    "    }\n",
    "    trains.append(point_model)\n",
    "    print(\"Layers:\", num_layers, 'Activation',activation,\n",
    "          \"Accuracy:\", acc_on_test, \"Test loss:\", test_loss)"
   ]
  },
  {
   "cell_type": "code",
   "execution_count": 461,
   "metadata": {},
   "outputs": [
    {
     "data": {
      "text/html": [
       "<div>\n",
       "<style scoped>\n",
       "    .dataframe tbody tr th:only-of-type {\n",
       "        vertical-align: middle;\n",
       "    }\n",
       "\n",
       "    .dataframe tbody tr th {\n",
       "        vertical-align: top;\n",
       "    }\n",
       "\n",
       "    .dataframe thead th {\n",
       "        text-align: right;\n",
       "    }\n",
       "</style>\n",
       "<table border=\"1\" class=\"dataframe\">\n",
       "  <thead>\n",
       "    <tr style=\"text-align: right;\">\n",
       "      <th></th>\n",
       "      <th>activation</th>\n",
       "      <th>lr</th>\n",
       "      <th>neurons</th>\n",
       "      <th>num_layers</th>\n",
       "      <th>test_acc</th>\n",
       "      <th>test_loss</th>\n",
       "      <th>train_loss</th>\n",
       "    </tr>\n",
       "  </thead>\n",
       "  <tbody>\n",
       "    <tr>\n",
       "      <th>0</th>\n",
       "      <td>elu</td>\n",
       "      <td>0.001000</td>\n",
       "      <td>5901,1672,1997,3857,4653,3202,5041</td>\n",
       "      <td>6</td>\n",
       "      <td>0.797911</td>\n",
       "      <td>0.427350</td>\n",
       "      <td>0.430979</td>\n",
       "    </tr>\n",
       "    <tr>\n",
       "      <th>1</th>\n",
       "      <td>relu</td>\n",
       "      <td>0.000644</td>\n",
       "      <td>4135,7496,7024,3340</td>\n",
       "      <td>3</td>\n",
       "      <td>0.965091</td>\n",
       "      <td>0.090499</td>\n",
       "      <td>0.088249</td>\n",
       "    </tr>\n",
       "    <tr>\n",
       "      <th>2</th>\n",
       "      <td>relu</td>\n",
       "      <td>0.000182</td>\n",
       "      <td>135,2984,5605</td>\n",
       "      <td>2</td>\n",
       "      <td>0.879622</td>\n",
       "      <td>0.311611</td>\n",
       "      <td>0.313760</td>\n",
       "    </tr>\n",
       "    <tr>\n",
       "      <th>3</th>\n",
       "      <td>elu</td>\n",
       "      <td>0.010275</td>\n",
       "      <td>3315,6534,136</td>\n",
       "      <td>2</td>\n",
       "      <td>0.747386</td>\n",
       "      <td>4.056760</td>\n",
       "      <td>4.067514</td>\n",
       "    </tr>\n",
       "    <tr>\n",
       "      <th>4</th>\n",
       "      <td>elu</td>\n",
       "      <td>0.000919</td>\n",
       "      <td>4334,1964,4652,2280,7724,4398</td>\n",
       "      <td>5</td>\n",
       "      <td>0.723903</td>\n",
       "      <td>4.425958</td>\n",
       "      <td>4.453276</td>\n",
       "    </tr>\n",
       "  </tbody>\n",
       "</table>\n",
       "</div>"
      ],
      "text/plain": [
       "  activation        lr                             neurons  num_layers  \\\n",
       "0        elu  0.001000  5901,1672,1997,3857,4653,3202,5041           6   \n",
       "1       relu  0.000644                 4135,7496,7024,3340           3   \n",
       "2       relu  0.000182                       135,2984,5605           2   \n",
       "3        elu  0.010275                       3315,6534,136           2   \n",
       "4        elu  0.000919       4334,1964,4652,2280,7724,4398           5   \n",
       "\n",
       "   test_acc  test_loss  train_loss  \n",
       "0  0.797911   0.427350    0.430979  \n",
       "1  0.965091   0.090499    0.088249  \n",
       "2  0.879622   0.311611    0.313760  \n",
       "3  0.747386   4.056760    4.067514  \n",
       "4  0.723903   4.425958    4.453276  "
      ]
     },
     "execution_count": 461,
     "metadata": {},
     "output_type": "execute_result"
    }
   ],
   "source": [
    "trains_data = pd.DataFrame(trains)\n",
    "trains_data.head()"
   ]
  },
  {
   "cell_type": "code",
   "execution_count": 471,
   "metadata": {},
   "outputs": [
    {
     "data": {
      "text/plain": [
       "(10, 7)"
      ]
     },
     "execution_count": 471,
     "metadata": {},
     "output_type": "execute_result"
    }
   ],
   "source": []
  },
  {
   "cell_type": "code",
   "execution_count": 442,
   "metadata": {},
   "outputs": [
    {
     "data": {
      "text/plain": [
       "array([8, 7, 1])"
      ]
     },
     "execution_count": 442,
     "metadata": {},
     "output_type": "execute_result"
    }
   ],
   "source": [
    "np.random.choice(a, size=3)"
   ]
  },
  {
   "cell_type": "code",
   "execution_count": 470,
   "metadata": {},
   "outputs": [
    {
     "data": {
      "text/plain": [
       "[{'activation': 'linear',\n",
       "  'lr': 0.007,\n",
       "  'neurons': '3624,1949,708,5096,8092',\n",
       "  'num_layers': 4,\n",
       "  'test_acc': 0.7448972922502334,\n",
       "  'test_loss': 4.0976821127392,\n",
       "  'train_loss': 4.102423663870998},\n",
       " {'activation': 'selu',\n",
       "  'lr': 0.01,\n",
       "  'neurons': '7188,4488,1917,1217',\n",
       "  'num_layers': 3,\n",
       "  'test_acc': 0.7448692810457517,\n",
       "  'test_loss': 4.093996698894198,\n",
       "  'train_loss': 4.097890119703989},\n",
       " {'activation': 'tanh',\n",
       "  'lr': 0.0001,\n",
       "  'neurons': '8030,5464,6856,6483',\n",
       "  'num_layers': 3,\n",
       "  'test_acc': 0.9742133520074696,\n",
       "  'test_loss': 0.07179442030333337,\n",
       "  'train_loss': 0.06371188142864162},\n",
       " {'activation': 'relu',\n",
       "  'lr': 0.0001,\n",
       "  'neurons': '4288,5193,5007,752,4157,2347,7212,4414,1032',\n",
       "  'num_layers': 8,\n",
       "  'test_acc': 0.7802450980392157,\n",
       "  'test_loss': 0.47916274789779906,\n",
       "  'train_loss': 0.48021044330622153},\n",
       " {'activation': 'linear',\n",
       "  'lr': 0.001,\n",
       "  'neurons': '984,2969,4307',\n",
       "  'num_layers': 2,\n",
       "  'test_acc': 0.9725186741363212,\n",
       "  'test_loss': 0.07662172673477066,\n",
       "  'train_loss': 0.06695737459908717},\n",
       " {'activation': 'selu',\n",
       "  'lr': 0.0007,\n",
       "  'neurons': '2498,1687,791',\n",
       "  'num_layers': 2,\n",
       "  'test_acc': 0.9749696545284781,\n",
       "  'test_loss': 0.07030150859601914,\n",
       "  'train_loss': 0.06025044919242935},\n",
       " {'activation': 'tanh',\n",
       "  'lr': 0.0007,\n",
       "  'neurons': '2248,4321,4674,5270,7644,1190,5822,515,1802,3067',\n",
       "  'num_layers': 9,\n",
       "  'test_acc': 0.7487768440709617,\n",
       "  'test_loss': 0.5112257179759797,\n",
       "  'train_loss': 0.5147406766023586},\n",
       " {'activation': 'tanh',\n",
       "  'lr': 0.0001,\n",
       "  'neurons': '7515,6638,7622',\n",
       "  'num_layers': 2,\n",
       "  'test_acc': 0.9722455648926237,\n",
       "  'test_loss': 0.08000467133427423,\n",
       "  'train_loss': 0.07670420094063042},\n",
       " {'activation': 'linear',\n",
       "  'lr': 0.0001,\n",
       "  'neurons': '692,5631,5538,2408,2317,503,3779,4213,4831',\n",
       "  'num_layers': 8,\n",
       "  'test_acc': 0.9437675070028011,\n",
       "  'test_loss': 0.1470096079603074,\n",
       "  'train_loss': 0.1428793457765428},\n",
       " {'activation': 'linear',\n",
       "  'lr': 0.01,\n",
       "  'neurons': '7159,65,2297,3758,2221,6775',\n",
       "  'num_layers': 5,\n",
       "  'test_acc': 0.5191269841269841,\n",
       "  'test_loss': 7.699259932079013,\n",
       "  'train_loss': 7.70614568619501},\n",
       " {'activation': 'relu',\n",
       "  'lr': 0.007,\n",
       "  'neurons': '4036,3700,143,2237,4366,1992,791',\n",
       "  'num_layers': 6,\n",
       "  'test_acc': 0.7486647992530345,\n",
       "  'test_loss': 4.037288060263982,\n",
       "  'train_loss': 4.043651088078817},\n",
       " {'activation': 'selu',\n",
       "  'lr': 0.1,\n",
       "  'neurons': '3555,6243,1710',\n",
       "  'num_layers': 2,\n",
       "  'test_acc': 0.25147525676937443,\n",
       "  'test_loss': 11.968079012916201,\n",
       "  'train_loss': 11.962966953257403},\n",
       " {'activation': 'selu',\n",
       "  'lr': 0.01,\n",
       "  'neurons': '7273,3896,2935,7864,2033,4466',\n",
       "  'num_layers': 5,\n",
       "  'test_acc': 0.7450980392156863,\n",
       "  'test_loss': 4.091363336169531,\n",
       "  'train_loss': 4.098624422436669},\n",
       " {'activation': 'linear',\n",
       "  'lr': 0.1,\n",
       "  'neurons': '4527,8162,2435',\n",
       "  'num_layers': 2,\n",
       "  'test_acc': 0.7486134453781512,\n",
       "  'test_loss': 4.036044118517921,\n",
       "  'train_loss': 4.0493670710810905},\n",
       " {'activation': 'linear',\n",
       "  'lr': 0.0001,\n",
       "  'neurons': '7364,5787',\n",
       "  'num_layers': 1,\n",
       "  'test_acc': 0.9620214752567694,\n",
       "  'test_loss': 0.12973015757780226,\n",
       "  'train_loss': 0.1298469770206976},\n",
       " {'activation': 'tanh',\n",
       "  'lr': 0.0001,\n",
       "  'neurons': '84,926,6435,6915,7268',\n",
       "  'num_layers': 4,\n",
       "  'test_acc': 0.9398295985060691,\n",
       "  'test_loss': 0.16948447946518186,\n",
       "  'train_loss': 0.1696748224200395},\n",
       " {'activation': 'linear',\n",
       "  'lr': 0.007,\n",
       "  'neurons': '3933,2854,7611,3186',\n",
       "  'num_layers': 3,\n",
       "  'test_acc': 0.7411531279178338,\n",
       "  'test_loss': 4.157701913137284,\n",
       "  'train_loss': 4.162593167925638},\n",
       " {'activation': 'relu',\n",
       "  'lr': 0.0007,\n",
       "  'neurons': '3085,1280,6962,1923,3128,2169,401,5033,3603',\n",
       "  'num_layers': 8,\n",
       "  'test_acc': 0.759670868347339,\n",
       "  'test_loss': 0.4941935364216093,\n",
       "  'train_loss': 0.4947898547485392},\n",
       " {'activation': 'relu',\n",
       "  'lr': 0.1,\n",
       "  'neurons': '899,8110,381,3328,4219,7867,7605',\n",
       "  'num_layers': 6,\n",
       "  'test_acc': 0.7478758169934641,\n",
       "  'test_loss': 4.049935669369168,\n",
       "  'train_loss': 4.051484143040168},\n",
       " {'activation': 'tanh',\n",
       "  'lr': 0.007,\n",
       "  'neurons': '4657,5027,4630,1959,471,4334,6875',\n",
       "  'num_layers': 6,\n",
       "  'test_acc': 0.7377591036414566,\n",
       "  'test_loss': 1.4048708139903963,\n",
       "  'train_loss': 1.426015934742317},\n",
       " {'activation': 'linear',\n",
       "  'lr': 0.007,\n",
       "  'neurons': '1471,5324',\n",
       "  'num_layers': 1,\n",
       "  'test_acc': 0.7892203548085901,\n",
       "  'test_loss': 3.2922637424771746,\n",
       "  'train_loss': 3.2956050105826566},\n",
       " {'activation': 'selu',\n",
       "  'lr': 0.01,\n",
       "  'neurons': '7398,110,1432,2396,977,2732,1597,464',\n",
       "  'num_layers': 7,\n",
       "  'test_acc': 0.7453828197945845,\n",
       "  'test_loss': 4.088865378546337,\n",
       "  'train_loss': 4.099095016560226},\n",
       " {'activation': 'relu',\n",
       "  'lr': 0.01,\n",
       "  'neurons': '2498,1687,791',\n",
       "  'num_layers': 2,\n",
       "  'test_acc': 0.7470728291316526,\n",
       "  'test_loss': 4.059706943754166,\n",
       "  'train_loss': 4.074925770835271},\n",
       " {'activation': 'linear',\n",
       "  'lr': 0.007,\n",
       "  'neurons': '6186,7811,7660,4889,7377',\n",
       "  'num_layers': 4,\n",
       "  'test_acc': 0.2619934640522876,\n",
       "  'test_loss': 11.803604089646113,\n",
       "  'train_loss': 11.785395397206463},\n",
       " {'activation': 'tanh',\n",
       "  'lr': 0.001,\n",
       "  'neurons': '298,2506,5317',\n",
       "  'num_layers': 2,\n",
       "  'test_acc': 0.971015406162465,\n",
       "  'test_loss': 0.08078585782694438,\n",
       "  'train_loss': 0.07398736662177181},\n",
       " {'activation': 'tanh',\n",
       "  'lr': 0.0001,\n",
       "  'neurons': '7364,5787',\n",
       "  'num_layers': 1,\n",
       "  'test_acc': 0.9606605975723623,\n",
       "  'test_loss': 0.13720001724977343,\n",
       "  'train_loss': 0.13728383989245804},\n",
       " {'activation': 'elu',\n",
       "  'lr': 0.1,\n",
       "  'neurons': '8030,5464,6856,6483',\n",
       "  'num_layers': 3,\n",
       "  'test_acc': 0.7477170868347339,\n",
       "  'test_loss': 4.051446580886841,\n",
       "  'train_loss': 4.06466969888677}]"
      ]
     },
     "execution_count": 470,
     "metadata": {},
     "output_type": "execute_result"
    }
   ],
   "source": []
  },
  {
   "cell_type": "code",
   "execution_count": 412,
   "metadata": {},
   "outputs": [
    {
     "name": "stdout",
     "output_type": "stream",
     "text": [
      "Epoch 1/15\n",
      "7560/7560 [==============================] - 4s 541us/step - loss: 0.5932\n",
      "Epoch 2/15\n",
      "7560/7560 [==============================] - 3s 406us/step - loss: 0.4464\n",
      "Epoch 3/15\n",
      "7560/7560 [==============================] - 3s 417us/step - loss: 0.3414\n",
      "Epoch 4/15\n",
      "7560/7560 [==============================] - 3s 457us/step - loss: 0.2679\n",
      "Epoch 5/15\n",
      "7560/7560 [==============================] - 3s 416us/step - loss: 0.2173\n",
      "Epoch 6/15\n",
      "7560/7560 [==============================] - 3s 412us/step - loss: 0.1803\n",
      "Epoch 7/15\n",
      "7560/7560 [==============================] - 3s 421us/step - loss: 0.1536\n",
      "Epoch 8/15\n",
      "7560/7560 [==============================] - 3s 415us/step - loss: 0.1320\n",
      "Epoch 9/15\n",
      "7560/7560 [==============================] - 3s 424us/step - loss: 0.1159\n",
      "Epoch 10/15\n",
      "7560/7560 [==============================] - 3s 416us/step - loss: 0.1030\n",
      "Epoch 11/15\n",
      "7560/7560 [==============================] - 3s 418us/step - loss: 0.0927\n",
      "Epoch 12/15\n",
      "7560/7560 [==============================] - 3s 416us/step - loss: 0.0849\n",
      "Epoch 13/15\n",
      "7560/7560 [==============================] - 3s 450us/step - loss: 0.0778\n",
      "Epoch 14/15\n",
      "7560/7560 [==============================] - 3s 454us/step - loss: 0.0718\n",
      "Epoch 15/15\n",
      "7560/7560 [==============================] - 4s 489us/step - loss: 0.0666\n",
      "Accuracy 0.9798459383753502\n"
     ]
    }
   ],
   "source": [
    "model = Sequential()\n",
    "model.add(Dense(2048, activation='relu', input_dim=X_train.shape[1]))\n",
    "model.add(Dropout(0.5))\n",
    "model.add(Dense(1024, activation='relu'))\n",
    "model.add(Dropout(0.5))\n",
    "model.add(Dense(y_train_.shape[1], activation='sigmoid'))\n",
    "model.compile(loss='binary_crossentropy', optimizer='adam')\n",
    "model.fit(X_train, y_train_, epochs=15, batch_size=2000)\n",
    "\n",
    "preds = model.predict(X_test)\n",
    "preds[preds>=0.5] = 1\n",
    "preds[preds<0.5] = 0\n",
    "\n",
    "result = preds.reshape(-1) == y_test_.reshape(-1)\n",
    "acc_on_test = sum(result)/len(result)\n",
    "print(\"Accuracy\", acc_on_test)"
   ]
  },
  {
   "cell_type": "code",
   "execution_count": 187,
   "metadata": {},
   "outputs": [
    {
     "name": "stdout",
     "output_type": "stream",
     "text": [
      "5040/5040 [==============================] - 1s 252us/step\n"
     ]
    }
   ],
   "source": [
    "test_loss = model.evaluate(X_test, y_test_)"
   ]
  },
  {
   "cell_type": "code",
   "execution_count": 511,
   "metadata": {},
   "outputs": [
    {
     "data": {
      "text/plain": [
       "0.814484126984127"
      ]
     },
     "execution_count": 511,
     "metadata": {},
     "output_type": "execute_result"
    }
   ],
   "source": [
    "from sklearn.neighbors import KNeighborsClassifier\n",
    "clf = KNeighborsClassifier(n_neighbors=84, weights='uniform')\n",
    "clf.fit(X_train, y_train_)\n",
    "clf.score(X_test, y_test_)"
   ]
  },
  {
   "cell_type": "code",
   "execution_count": null,
   "metadata": {},
   "outputs": [],
   "source": []
  }
 ],
 "metadata": {
  "kernelspec": {
   "display_name": "Python 3",
   "language": "python",
   "name": "python3"
  },
  "language_info": {
   "codemirror_mode": {
    "name": "ipython",
    "version": 3
   },
   "file_extension": ".py",
   "mimetype": "text/x-python",
   "name": "python",
   "nbconvert_exporter": "python",
   "pygments_lexer": "ipython3",
   "version": "3.6.4"
  }
 },
 "nbformat": 4,
 "nbformat_minor": 2
}
