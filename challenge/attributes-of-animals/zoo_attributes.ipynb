{
 "cells": [
  {
   "cell_type": "code",
   "execution_count": 64,
   "metadata": {},
   "outputs": [],
   "source": [
    "import numpy as np\n",
    "import tensorflow as tf\n",
    "from sklearn import model_selection\n",
    "import pandas as pd\n",
    "import glob"
   ]
  },
  {
   "cell_type": "code",
   "execution_count": 52,
   "metadata": {},
   "outputs": [],
   "source": [
    "def features_from_bottles(bottles):\n",
    "    X = []\n",
    "    y = []\n",
    "    for bottle in bottles:\n",
    "        label = bottle.split(\"/\")[-1].replace(\"_inception_v3.txt\", \"\")\n",
    "        line = open(bottle).readlines()\n",
    "        X.append( np.loadtxt(line[0].split(','), dtype=np.float32) )\n",
    "        y.append(label)\n",
    "        \n",
    "    X = np.array(X)\n",
    "    return (X, y)\n",
    "        "
   ]
  },
  {
   "cell_type": "code",
   "execution_count": 57,
   "metadata": {},
   "outputs": [],
   "source": [
    "bottles = glob.glob('./features/train_img_vectors/*.txt')\n",
    "X, y = features_from_bottles(bottles)"
   ]
  },
  {
   "cell_type": "code",
   "execution_count": 58,
   "metadata": {},
   "outputs": [],
   "source": [
    "X_train, X_test, y_train, y_test = model_selection.train_test_split(X, y, test_size=0.4)"
   ]
  },
  {
   "cell_type": "code",
   "execution_count": 87,
   "metadata": {},
   "outputs": [],
   "source": [
    "train_labels = pd.read_csv('./DL3 Dataset/meta-data/train.csv')\n",
    "test_labels = pd.read_csv('./DL3 Dataset/meta-data/test.csv')\n",
    "train_labels = train_labels.set_index('Image_name');"
   ]
  },
  {
   "cell_type": "code",
   "execution_count": 88,
   "metadata": {},
   "outputs": [
    {
     "data": {
      "text/html": [
       "<div>\n",
       "<style scoped>\n",
       "    .dataframe tbody tr th:only-of-type {\n",
       "        vertical-align: middle;\n",
       "    }\n",
       "\n",
       "    .dataframe tbody tr th {\n",
       "        vertical-align: top;\n",
       "    }\n",
       "\n",
       "    .dataframe thead th {\n",
       "        text-align: right;\n",
       "    }\n",
       "</style>\n",
       "<table border=\"1\" class=\"dataframe\">\n",
       "  <thead>\n",
       "    <tr style=\"text-align: right;\">\n",
       "      <th></th>\n",
       "      <th>attrib_01</th>\n",
       "      <th>attrib_02</th>\n",
       "      <th>attrib_03</th>\n",
       "      <th>attrib_04</th>\n",
       "      <th>attrib_05</th>\n",
       "      <th>attrib_06</th>\n",
       "      <th>attrib_07</th>\n",
       "      <th>attrib_08</th>\n",
       "      <th>attrib_09</th>\n",
       "      <th>attrib_10</th>\n",
       "      <th>...</th>\n",
       "      <th>attrib_76</th>\n",
       "      <th>attrib_77</th>\n",
       "      <th>attrib_78</th>\n",
       "      <th>attrib_79</th>\n",
       "      <th>attrib_80</th>\n",
       "      <th>attrib_81</th>\n",
       "      <th>attrib_82</th>\n",
       "      <th>attrib_83</th>\n",
       "      <th>attrib_84</th>\n",
       "      <th>attrib_85</th>\n",
       "    </tr>\n",
       "    <tr>\n",
       "      <th>Image_name</th>\n",
       "      <th></th>\n",
       "      <th></th>\n",
       "      <th></th>\n",
       "      <th></th>\n",
       "      <th></th>\n",
       "      <th></th>\n",
       "      <th></th>\n",
       "      <th></th>\n",
       "      <th></th>\n",
       "      <th></th>\n",
       "      <th></th>\n",
       "      <th></th>\n",
       "      <th></th>\n",
       "      <th></th>\n",
       "      <th></th>\n",
       "      <th></th>\n",
       "      <th></th>\n",
       "      <th></th>\n",
       "      <th></th>\n",
       "      <th></th>\n",
       "      <th></th>\n",
       "    </tr>\n",
       "  </thead>\n",
       "  <tbody>\n",
       "    <tr>\n",
       "      <th>Image-1.jpg</th>\n",
       "      <td>0</td>\n",
       "      <td>0</td>\n",
       "      <td>0</td>\n",
       "      <td>0</td>\n",
       "      <td>0</td>\n",
       "      <td>1</td>\n",
       "      <td>1</td>\n",
       "      <td>0</td>\n",
       "      <td>0</td>\n",
       "      <td>0</td>\n",
       "      <td>...</td>\n",
       "      <td>1</td>\n",
       "      <td>0</td>\n",
       "      <td>0</td>\n",
       "      <td>0</td>\n",
       "      <td>0</td>\n",
       "      <td>0</td>\n",
       "      <td>0</td>\n",
       "      <td>0</td>\n",
       "      <td>0</td>\n",
       "      <td>1</td>\n",
       "    </tr>\n",
       "    <tr>\n",
       "      <th>Image-2.jpg</th>\n",
       "      <td>1</td>\n",
       "      <td>0</td>\n",
       "      <td>0</td>\n",
       "      <td>1</td>\n",
       "      <td>0</td>\n",
       "      <td>0</td>\n",
       "      <td>1</td>\n",
       "      <td>1</td>\n",
       "      <td>0</td>\n",
       "      <td>0</td>\n",
       "      <td>...</td>\n",
       "      <td>1</td>\n",
       "      <td>1</td>\n",
       "      <td>1</td>\n",
       "      <td>1</td>\n",
       "      <td>0</td>\n",
       "      <td>0</td>\n",
       "      <td>0</td>\n",
       "      <td>1</td>\n",
       "      <td>0</td>\n",
       "      <td>1</td>\n",
       "    </tr>\n",
       "    <tr>\n",
       "      <th>Image-3.jpg</th>\n",
       "      <td>1</td>\n",
       "      <td>0</td>\n",
       "      <td>0</td>\n",
       "      <td>1</td>\n",
       "      <td>0</td>\n",
       "      <td>0</td>\n",
       "      <td>0</td>\n",
       "      <td>1</td>\n",
       "      <td>1</td>\n",
       "      <td>0</td>\n",
       "      <td>...</td>\n",
       "      <td>1</td>\n",
       "      <td>0</td>\n",
       "      <td>0</td>\n",
       "      <td>1</td>\n",
       "      <td>0</td>\n",
       "      <td>1</td>\n",
       "      <td>0</td>\n",
       "      <td>1</td>\n",
       "      <td>0</td>\n",
       "      <td>1</td>\n",
       "    </tr>\n",
       "  </tbody>\n",
       "</table>\n",
       "<p>3 rows × 85 columns</p>\n",
       "</div>"
      ],
      "text/plain": [
       "             attrib_01  attrib_02  attrib_03  attrib_04  attrib_05  attrib_06  \\\n",
       "Image_name                                                                      \n",
       "Image-1.jpg          0          0          0          0          0          1   \n",
       "Image-2.jpg          1          0          0          1          0          0   \n",
       "Image-3.jpg          1          0          0          1          0          0   \n",
       "\n",
       "             attrib_07  attrib_08  attrib_09  attrib_10    ...      attrib_76  \\\n",
       "Image_name                                                 ...                  \n",
       "Image-1.jpg          1          0          0          0    ...              1   \n",
       "Image-2.jpg          1          1          0          0    ...              1   \n",
       "Image-3.jpg          0          1          1          0    ...              1   \n",
       "\n",
       "             attrib_77  attrib_78  attrib_79  attrib_80  attrib_81  attrib_82  \\\n",
       "Image_name                                                                      \n",
       "Image-1.jpg          0          0          0          0          0          0   \n",
       "Image-2.jpg          1          1          1          0          0          0   \n",
       "Image-3.jpg          0          0          1          0          1          0   \n",
       "\n",
       "             attrib_83  attrib_84  attrib_85  \n",
       "Image_name                                    \n",
       "Image-1.jpg          0          0          1  \n",
       "Image-2.jpg          1          0          1  \n",
       "Image-3.jpg          1          0          1  \n",
       "\n",
       "[3 rows x 85 columns]"
      ]
     },
     "execution_count": 88,
     "metadata": {},
     "output_type": "execute_result"
    }
   ],
   "source": [
    "train_labels.head(3)"
   ]
  },
  {
   "cell_type": "code",
   "execution_count": 94,
   "metadata": {},
   "outputs": [
    {
     "data": {
      "text/plain": [
       "85"
      ]
     },
     "execution_count": 94,
     "metadata": {},
     "output_type": "execute_result"
    }
   ],
   "source": [
    "len(train_labels.loc['Image-22.jpg'].tolist())"
   ]
  },
  {
   "cell_type": "code",
   "execution_count": 101,
   "metadata": {},
   "outputs": [],
   "source": [
    "y_train_ = np.array([train_labels.loc[label] for label in y_train])\n",
    "y_test_ = np.array([train_labels.loc[label] for label in y_test])"
   ]
  },
  {
   "cell_type": "code",
   "execution_count": null,
   "metadata": {},
   "outputs": [],
   "source": []
  },
  {
   "cell_type": "code",
   "execution_count": null,
   "metadata": {},
   "outputs": [],
   "source": []
  }
 ],
 "metadata": {
  "kernelspec": {
   "display_name": "Python 3",
   "language": "python",
   "name": "python3"
  },
  "language_info": {
   "codemirror_mode": {
    "name": "ipython",
    "version": 3
   },
   "file_extension": ".py",
   "mimetype": "text/x-python",
   "name": "python",
   "nbconvert_exporter": "python",
   "pygments_lexer": "ipython3",
   "version": "3.6.4"
  }
 },
 "nbformat": 4,
 "nbformat_minor": 2
}
